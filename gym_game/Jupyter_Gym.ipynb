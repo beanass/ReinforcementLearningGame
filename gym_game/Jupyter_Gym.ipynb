{
 "cells": [
  {
   "cell_type": "code",
   "execution_count": 1,
   "metadata": {},
   "outputs": [],
   "source": [
    "# Jupyter Notebook for the Gym Environment\n",
    "# Authors: Maurice Dupont, Anass Bentahar, Raphael Pennekamp\n",
    "# Date: 10.05.2023"
   ]
  },
  {
   "cell_type": "code",
   "execution_count": 3,
   "metadata": {},
   "outputs": [],
   "source": [
    "# imports\n",
    "import os\n",
    "import subprocess\n",
    "from gym import Env\n",
    "from gym import spaces\n",
    "import numpy as np"
   ]
  },
  {
   "cell_type": "code",
   "execution_count": 7,
   "metadata": {},
   "outputs": [],
   "source": [
    "\n",
    "class CustomEnv(Env):\n",
    "\n",
    "    def __init__(self):\n",
    "        \"\"\"initialize environment\"\"\"\n",
    "        # actions: left,right,up\n",
    "        self.action_space = spaces.Discrete(3)\n",
    "        # data we get from the game\n",
    "        self.observation_space = {}\n",
    "        #self.game_cmd = ['C:\\\\Program Files\\\\LOVE\\\\love.exe', '..\\\\game']\n",
    "        #self.game_socket_rcv = ['python', '..\\\\python\\\\socketpy.py']\n",
    "        #self.game_process = subprocess.Popen(self.game_cmd)\n",
    "        #self.socket_process = subprocess.Popen(self.game_socket_rcv)\n",
    "        #self.observation_space = {}\n",
    "\n",
    "    def __delete__(self):\n",
    "        \"\"\"initialize environment\"\"\"\n",
    "        self.game_process.kill()\n",
    "        self.socket_process.kill()\n",
    "\n",
    "    def reset(self):\n",
    "        \"\"\"reset environment\"\"\"\n",
    "        observation = 0 # still have to be define\n",
    "        return observation\n",
    "\n",
    "    def step(self, action):\n",
    "        \"\"\"this function defines what to do in every step\"\"\"\n",
    "        self.state = action -1\n",
    "\n",
    "        observation = 0\n",
    "        reward = 0\n",
    "        done = 0\n",
    "        info = 0\n",
    "        return observation, reward, done, info\n",
    "\n",
    "    def render(self, mode='human'): \n",
    "        pass\n"
   ]
  },
  {
   "cell_type": "code",
   "execution_count": 8,
   "metadata": {},
   "outputs": [],
   "source": [
    "env = CustomEnv()"
   ]
  },
  {
   "cell_type": "code",
   "execution_count": 13,
   "metadata": {},
   "outputs": [
    {
     "data": {
      "text/plain": [
       "0"
      ]
     },
     "execution_count": 13,
     "metadata": {},
     "output_type": "execute_result"
    }
   ],
   "source": [
    "env.action_space.sample()"
   ]
  },
  {
   "cell_type": "code",
   "execution_count": null,
   "metadata": {},
   "outputs": [],
   "source": []
  }
 ],
 "metadata": {
  "kernelspec": {
   "display_name": "Python 3",
   "language": "python",
   "name": "python3"
  },
  "language_info": {
   "codemirror_mode": {
    "name": "ipython",
    "version": 3
   },
   "file_extension": ".py",
   "mimetype": "text/x-python",
   "name": "python",
   "nbconvert_exporter": "python",
   "pygments_lexer": "ipython3",
   "version": "3.10.2"
  },
  "orig_nbformat": 4
 },
 "nbformat": 4,
 "nbformat_minor": 2
}
