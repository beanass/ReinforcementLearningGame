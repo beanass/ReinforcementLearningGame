{
 "cells": [
  {
   "cell_type": "code",
   "execution_count": 3,
   "metadata": {},
   "outputs": [],
   "source": [
    "# Jupyter Notebook for the Gym Environment\n",
    "# Authors: Maurice Dupont, Anass Bentahar, Raphael Pennekamp\n",
    "# Date: 10.05.2023"
   ]
  },
  {
   "cell_type": "code",
   "execution_count": 28,
   "metadata": {},
   "outputs": [],
   "source": [
    "# imports\n",
    "import os\n",
    "import subprocess\n",
    "from concurrent.futures import ThreadPoolExecutor"
   ]
  },
  {
   "attachments": {},
   "cell_type": "markdown",
   "metadata": {},
   "source": [
    "Starting the game and the socket"
   ]
  },
  {
   "cell_type": "code",
   "execution_count": 1,
   "metadata": {},
   "outputs": [
    {
     "data": {
      "text/plain": [
       "1"
      ]
     },
     "execution_count": 1,
     "metadata": {},
     "output_type": "execute_result"
    }
   ],
   "source": [
    "\"\"\"import subprocess\n",
    "\n",
    "# define the commands to run\n",
    "cmd1 = ['C:\\\\Program Files\\\\LOVE\\\\love.exe', '..\\\\game']\n",
    "cmd2 = ['python', '..\\\\python\\\\socketpy.py']\n",
    "\n",
    "# start the commands in parallel\n",
    "p1 = subprocess.Popen(cmd1)\n",
    "p2 = subprocess.Popen(cmd2)\n",
    "\n",
    "# wait for the commands to finish\n",
    "p1.wait()\n",
    "p2.wait()\"\"\""
   ]
  },
  {
   "cell_type": "code",
   "execution_count": null,
   "metadata": {},
   "outputs": [],
   "source": []
  }
 ],
 "metadata": {
  "kernelspec": {
   "display_name": "Python 3",
   "language": "python",
   "name": "python3"
  },
  "language_info": {
   "codemirror_mode": {
    "name": "ipython",
    "version": 3
   },
   "file_extension": ".py",
   "mimetype": "text/x-python",
   "name": "python",
   "nbconvert_exporter": "python",
   "pygments_lexer": "ipython3",
   "version": "3.10.2"
  },
  "orig_nbformat": 4
 },
 "nbformat": 4,
 "nbformat_minor": 2
}
